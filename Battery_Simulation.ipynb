{
  "cells": [
    {
      "cell_type": "markdown",
      "metadata": {
        "id": "view-in-github",
        "colab_type": "text"
      },
      "source": [
        "<a href=\"https://colab.research.google.com/github/Adharsh0001/Battery_Simulation/blob/main/Battery_Simulation.ipynb\" target=\"_parent\"><img src=\"https://colab.research.google.com/assets/colab-badge.svg\" alt=\"Open In Colab\"/></a>"
      ]
    },
    {
      "cell_type": "markdown",
      "metadata": {
        "id": "laTRa2yCGsO5"
      },
      "source": [
        "Importing the Packages"
      ]
    },
    {
      "cell_type": "code",
      "execution_count": 36,
      "metadata": {
        "id": "NCrt6gtvGrmL"
      },
      "outputs": [],
      "source": [
        "import pandas as pd\n",
        "import numpy as np\n",
        "import matplotlib.pyplot as plt"
      ]
    },
    {
      "cell_type": "markdown",
      "metadata": {
        "id": "DYlYpU-cSwik"
      },
      "source": [
        "Getting the Test demand. Unreal set demand"
      ]
    },
    {
      "cell_type": "code",
      "execution_count": 40,
      "metadata": {
        "colab": {
          "base_uri": "https://localhost:8080/",
          "height": 364
        },
        "id": "Iy6zG8v2Srq1",
        "outputId": "38d76e09-967e-4a56-f503-19b228889685"
      },
      "outputs": [
        {
          "output_type": "execute_result",
          "data": {
            "text/plain": [
              "   Speed (Assumption)  Torque (Assumption)  Time    SOC   OCV\n",
              "0                  50             7.000000    10  100.0  36.0\n",
              "1                 100             7.000000    10   90.0  33.0\n",
              "2                 150             7.000000    10   80.0  30.0\n",
              "3                 200             7.000000    10   70.0  28.0\n",
              "4                 250             7.000000    10   60.0  26.5\n",
              "5                 300             7.000000     5   50.0  25.4\n",
              "6                 350             6.824386     5   40.0  24.3\n",
              "7                 400             5.971338     5   30.0  22.0\n",
              "8                 450             5.307856     5   20.0  18.0\n",
              "9                 500             4.777070     5   10.0  12.0"
            ],
            "text/html": [
              "\n",
              "  <div id=\"df-68d59955-3822-4ab7-8ab1-33668bda9987\">\n",
              "    <div class=\"colab-df-container\">\n",
              "      <div>\n",
              "<style scoped>\n",
              "    .dataframe tbody tr th:only-of-type {\n",
              "        vertical-align: middle;\n",
              "    }\n",
              "\n",
              "    .dataframe tbody tr th {\n",
              "        vertical-align: top;\n",
              "    }\n",
              "\n",
              "    .dataframe thead th {\n",
              "        text-align: right;\n",
              "    }\n",
              "</style>\n",
              "<table border=\"1\" class=\"dataframe\">\n",
              "  <thead>\n",
              "    <tr style=\"text-align: right;\">\n",
              "      <th></th>\n",
              "      <th>Speed (Assumption)</th>\n",
              "      <th>Torque (Assumption)</th>\n",
              "      <th>Time</th>\n",
              "      <th>SOC</th>\n",
              "      <th>OCV</th>\n",
              "    </tr>\n",
              "  </thead>\n",
              "  <tbody>\n",
              "    <tr>\n",
              "      <th>0</th>\n",
              "      <td>50</td>\n",
              "      <td>7.000000</td>\n",
              "      <td>10</td>\n",
              "      <td>100.0</td>\n",
              "      <td>36.0</td>\n",
              "    </tr>\n",
              "    <tr>\n",
              "      <th>1</th>\n",
              "      <td>100</td>\n",
              "      <td>7.000000</td>\n",
              "      <td>10</td>\n",
              "      <td>90.0</td>\n",
              "      <td>33.0</td>\n",
              "    </tr>\n",
              "    <tr>\n",
              "      <th>2</th>\n",
              "      <td>150</td>\n",
              "      <td>7.000000</td>\n",
              "      <td>10</td>\n",
              "      <td>80.0</td>\n",
              "      <td>30.0</td>\n",
              "    </tr>\n",
              "    <tr>\n",
              "      <th>3</th>\n",
              "      <td>200</td>\n",
              "      <td>7.000000</td>\n",
              "      <td>10</td>\n",
              "      <td>70.0</td>\n",
              "      <td>28.0</td>\n",
              "    </tr>\n",
              "    <tr>\n",
              "      <th>4</th>\n",
              "      <td>250</td>\n",
              "      <td>7.000000</td>\n",
              "      <td>10</td>\n",
              "      <td>60.0</td>\n",
              "      <td>26.5</td>\n",
              "    </tr>\n",
              "    <tr>\n",
              "      <th>5</th>\n",
              "      <td>300</td>\n",
              "      <td>7.000000</td>\n",
              "      <td>5</td>\n",
              "      <td>50.0</td>\n",
              "      <td>25.4</td>\n",
              "    </tr>\n",
              "    <tr>\n",
              "      <th>6</th>\n",
              "      <td>350</td>\n",
              "      <td>6.824386</td>\n",
              "      <td>5</td>\n",
              "      <td>40.0</td>\n",
              "      <td>24.3</td>\n",
              "    </tr>\n",
              "    <tr>\n",
              "      <th>7</th>\n",
              "      <td>400</td>\n",
              "      <td>5.971338</td>\n",
              "      <td>5</td>\n",
              "      <td>30.0</td>\n",
              "      <td>22.0</td>\n",
              "    </tr>\n",
              "    <tr>\n",
              "      <th>8</th>\n",
              "      <td>450</td>\n",
              "      <td>5.307856</td>\n",
              "      <td>5</td>\n",
              "      <td>20.0</td>\n",
              "      <td>18.0</td>\n",
              "    </tr>\n",
              "    <tr>\n",
              "      <th>9</th>\n",
              "      <td>500</td>\n",
              "      <td>4.777070</td>\n",
              "      <td>5</td>\n",
              "      <td>10.0</td>\n",
              "      <td>12.0</td>\n",
              "    </tr>\n",
              "  </tbody>\n",
              "</table>\n",
              "</div>\n",
              "      <button class=\"colab-df-convert\" onclick=\"convertToInteractive('df-68d59955-3822-4ab7-8ab1-33668bda9987')\"\n",
              "              title=\"Convert this dataframe to an interactive table.\"\n",
              "              style=\"display:none;\">\n",
              "        \n",
              "  <svg xmlns=\"http://www.w3.org/2000/svg\" height=\"24px\"viewBox=\"0 0 24 24\"\n",
              "       width=\"24px\">\n",
              "    <path d=\"M0 0h24v24H0V0z\" fill=\"none\"/>\n",
              "    <path d=\"M18.56 5.44l.94 2.06.94-2.06 2.06-.94-2.06-.94-.94-2.06-.94 2.06-2.06.94zm-11 1L8.5 8.5l.94-2.06 2.06-.94-2.06-.94L8.5 2.5l-.94 2.06-2.06.94zm10 10l.94 2.06.94-2.06 2.06-.94-2.06-.94-.94-2.06-.94 2.06-2.06.94z\"/><path d=\"M17.41 7.96l-1.37-1.37c-.4-.4-.92-.59-1.43-.59-.52 0-1.04.2-1.43.59L10.3 9.45l-7.72 7.72c-.78.78-.78 2.05 0 2.83L4 21.41c.39.39.9.59 1.41.59.51 0 1.02-.2 1.41-.59l7.78-7.78 2.81-2.81c.8-.78.8-2.07 0-2.86zM5.41 20L4 18.59l7.72-7.72 1.47 1.35L5.41 20z\"/>\n",
              "  </svg>\n",
              "      </button>\n",
              "      \n",
              "  <style>\n",
              "    .colab-df-container {\n",
              "      display:flex;\n",
              "      flex-wrap:wrap;\n",
              "      gap: 12px;\n",
              "    }\n",
              "\n",
              "    .colab-df-convert {\n",
              "      background-color: #E8F0FE;\n",
              "      border: none;\n",
              "      border-radius: 50%;\n",
              "      cursor: pointer;\n",
              "      display: none;\n",
              "      fill: #1967D2;\n",
              "      height: 32px;\n",
              "      padding: 0 0 0 0;\n",
              "      width: 32px;\n",
              "    }\n",
              "\n",
              "    .colab-df-convert:hover {\n",
              "      background-color: #E2EBFA;\n",
              "      box-shadow: 0px 1px 2px rgba(60, 64, 67, 0.3), 0px 1px 3px 1px rgba(60, 64, 67, 0.15);\n",
              "      fill: #174EA6;\n",
              "    }\n",
              "\n",
              "    [theme=dark] .colab-df-convert {\n",
              "      background-color: #3B4455;\n",
              "      fill: #D2E3FC;\n",
              "    }\n",
              "\n",
              "    [theme=dark] .colab-df-convert:hover {\n",
              "      background-color: #434B5C;\n",
              "      box-shadow: 0px 1px 3px 1px rgba(0, 0, 0, 0.15);\n",
              "      filter: drop-shadow(0px 1px 2px rgba(0, 0, 0, 0.3));\n",
              "      fill: #FFFFFF;\n",
              "    }\n",
              "  </style>\n",
              "\n",
              "      <script>\n",
              "        const buttonEl =\n",
              "          document.querySelector('#df-68d59955-3822-4ab7-8ab1-33668bda9987 button.colab-df-convert');\n",
              "        buttonEl.style.display =\n",
              "          google.colab.kernel.accessAllowed ? 'block' : 'none';\n",
              "\n",
              "        async function convertToInteractive(key) {\n",
              "          const element = document.querySelector('#df-68d59955-3822-4ab7-8ab1-33668bda9987');\n",
              "          const dataTable =\n",
              "            await google.colab.kernel.invokeFunction('convertToInteractive',\n",
              "                                                     [key], {});\n",
              "          if (!dataTable) return;\n",
              "\n",
              "          const docLinkHtml = 'Like what you see? Visit the ' +\n",
              "            '<a target=\"_blank\" href=https://colab.research.google.com/notebooks/data_table.ipynb>data table notebook</a>'\n",
              "            + ' to learn more about interactive tables.';\n",
              "          element.innerHTML = '';\n",
              "          dataTable['output_type'] = 'display_data';\n",
              "          await google.colab.output.renderOutput(dataTable, element);\n",
              "          const docLink = document.createElement('div');\n",
              "          docLink.innerHTML = docLinkHtml;\n",
              "          element.appendChild(docLink);\n",
              "        }\n",
              "      </script>\n",
              "    </div>\n",
              "  </div>\n",
              "  "
            ]
          },
          "metadata": {},
          "execution_count": 40
        }
      ],
      "source": [
        "data = pd.read_csv(\"https://raw.githubusercontent.com/Adharsh0001/Battery_Simulation/main/Demand%20Chart.csv\")       # Trial 1 only with discharge demand\n",
        "# data = pd.read_csv(\"https://raw.githubusercontent.com/Adharsh0001/Battery_Simulation/main/Demand%20Chart_2.csv\")       # Trial 2 with discharge and charge curve\n",
        "# data = pd.read_csv(\"https://raw.githubusercontent.com/Adharsh0001/Battery_Simulation/main/Demand%20Chart_3.csv\")\n",
        "data.head(10)                                                                                                                # Visualizing the recived data"
      ]
    },
    {
      "cell_type": "markdown",
      "metadata": {
        "id": "mWL7qOPYC_d0"
      },
      "source": [
        "Getting the Speed, Torque and Time demand of each step into three various list"
      ]
    },
    {
      "cell_type": "code",
      "execution_count": 41,
      "metadata": {
        "id": "zX-EZ7Jo_XlH"
      },
      "outputs": [],
      "source": [
        "Speed = data.loc[:,\"Speed (Assumption)\"]\n",
        "Torque = data.loc[:,\"Torque (Assumption)\"]\n",
        "Time = data.loc[:,\"Time\"]"
      ]
    },
    {
      "cell_type": "markdown",
      "metadata": {
        "id": "rv_ZBApuDBu8"
      },
      "source": [
        "Basic details of the Hardware going to be used.\n"
      ]
    },
    {
      "cell_type": "code",
      "execution_count": 42,
      "metadata": {
        "id": "e_cSYTm9BtVa"
      },
      "outputs": [],
      "source": [
        "Motor = {\"Voltage\":24,\"Max_Current\":7.5,\"Max_Temp\":60}\n",
        "Battery = {\"Voltage\":24,\"Initial_SOC\":100,\"Min_SOC\":20,\"Max_Temp\":40}   #Access the value of Voltage from Motor dataset"
      ]
    },
    {
      "cell_type": "markdown",
      "metadata": {
        "id": "r9KcZUkKDF8t"
      },
      "source": [
        "Analysing the demand chart downloaded"
      ]
    },
    {
      "cell_type": "code",
      "execution_count": 43,
      "metadata": {
        "colab": {
          "base_uri": "https://localhost:8080/",
          "height": 472
        },
        "id": "ug7pIUTmDHVF",
        "outputId": "3187cbb0-c89d-4a1a-bd32-582e16ae73fb"
      },
      "outputs": [
        {
          "output_type": "display_data",
          "data": {
            "text/plain": [
              "<Figure size 640x480 with 1 Axes>"
            ],
            "image/png": "[encoded data removed]"
          },
          "metadata": {}
        }
      ],
      "source": [
        "data.plot(x = \"Speed (Assumption)\", y = \"Torque (Assumption)\", style = \"*\")\n",
        "plt.title(\"Speed vs Torque - Demand Dataset\")\n",
        "plt.xlabel(\"Speed\")\n",
        "plt.ylabel(\"Torque\")\n",
        "plt.show()"
      ]
    },
    {
      "cell_type": "markdown",
      "metadata": {
        "id": "7srExwV0PVEE"
      },
      "source": [
        "Creating Charts\n",
        "Step Demand Vs Speed // Step Demand vs Torque // Speed Demand vs Torque // Speed vs Time"
      ]
    },
    {
      "cell_type": "code",
      "execution_count": 44,
      "metadata": {
        "colab": {
          "base_uri": "https://localhost:8080/",
          "height": 447
        },
        "id": "fMx0kXBtLy73",
        "outputId": "c6735a60-686a-4761-e075-e6456a42dba0"
      },
      "outputs": [
        {
          "output_type": "stream",
          "name": "stdout",
          "text": [
            "[1, 2, 3, 4, 5, 6, 7, 8, 9, 10, 11, 12]\n"
          ]
        },
        {
          "output_type": "display_data",
          "data": {
            "text/plain": [
              "<Figure size 640x480 with 4 Axes>"
            ],
            "image/png": "[encoded data removed]"
          },
          "metadata": {}
        }
      ],
      "source": [
        "S_no =[]\n",
        "Length_Data = len(Torque)\n",
        "for A in range(0,Length_Data):\n",
        "  S_no.append(A+1)                               #Creating an index common for all the list downloaded\n",
        "print(S_no)\n",
        "#------------------------------------------------------------------------------------------------------\n",
        "data1 = data                                     # Creating an duplicate of the dataset\n",
        "data1[\"S_no\"] = S_no                             # Adding the created index to the duplicate dataset\n",
        "figure, data1 = plt.subplots(2,2)                # Creating subplots to visualize the charts \n",
        "data1[0,0].plot(S_no ,Speed)                      \n",
        "data1[0,1].plot(S_no ,Torque)\n",
        "data1[1,0].plot(Speed ,Torque)\n",
        "data1[1,1].plot(Speed,Time)\n",
        "plt.show()"
      ]
    },
    {
      "cell_type": "markdown",
      "metadata": {
        "id": "0bigWLGiQw17"
      },
      "source": [
        "Safety inputs which are considered as the current status of the hardware"
      ]
    },
    {
      "cell_type": "code",
      "execution_count": 47,
      "metadata": {
        "id": "Uok73v_MQwKd"
      },
      "outputs": [],
      "source": [
        "Motor_Temp = 27\n",
        "Motor_Voltage = 36\n",
        "Battery_SOC = 100\n",
        "Battery_Temp = 27\n",
        "Battery_Capacity = 50  #Ah"
      ]
    },
    {
      "cell_type": "markdown",
      "metadata": {
        "id": "MioBtrdIPeZT"
      },
      "source": [
        "Calculation Part "
      ]
    },
    {
      "cell_type": "code",
      "execution_count": null,
      "metadata": {
        "colab": {
          "base_uri": "https://localhost:8080/",
          "height": 1000
        },
        "id": "vKVq8e--Pd3U",
        "outputId": "8547ca37-1abe-4798-fb57-31f70a5c90c3"
      },
      "outputs": [
        {
          "output_type": "stream",
          "name": "stdout",
          "text": [
            "Enter the Key Demand\n",
            "None1\n",
            "What is the battery status\n",
            "100\n",
            "Demand Step_No:  0   is getting executed\n",
            "Current consumption for the step no  0   1.0175925925925926\n",
            "the current cnsumption for step no i with   600   is   0.1695987654320987\n",
            "Battery_SOC : 99.6608024691358\n",
            "Speed = 50   Torque = 7.0   Power = 36.63333333333333   Current_Battery_SOC = 99.6608024691358   F_Current = 0.1695987654320987\n",
            " ------------------------------------------------------------------------------------------------------------------------------------------------------------------------------------------ \n",
            "Demand Step_No:  1   is getting executed\n",
            "Current consumption for the step no  1   2.035185185185185\n",
            "the current cnsumption for step no i with   600   is   0.5087962962962916\n",
            "Battery_SOC : 98.98240740740742\n",
            "Speed = 100   Torque = 7.0   Power = 73.26666666666667   Current_Battery_SOC = 98.98240740740742   F_Current = 0.5087962962962916\n",
            " ------------------------------------------------------------------------------------------------------------------------------------------------------------------------------------------ \n",
            "Demand Step_No:  2   is getting executed\n",
            "Current consumption for the step no  2   3.052777777777778\n",
            "the current cnsumption for step no i with   600   is   1.0175925925925882\n",
            "Battery_SOC : 97.96481481481483\n",
            "Speed = 150   Torque = 7.0   Power = 109.9   Current_Battery_SOC = 97.96481481481483   F_Current = 1.0175925925925882\n",
            " ------------------------------------------------------------------------------------------------------------------------------------------------------------------------------------------ \n",
            "Demand Step_No:  3   is getting executed\n",
            "Current consumption for the step no  3   4.07037037037037\n",
            "the current cnsumption for step no i with   600   is   1.695987654321031\n",
            "Battery_SOC : 96.60802469135794\n",
            "Speed = 200   Torque = 7.0   Power = 146.53333333333333   Current_Battery_SOC = 96.60802469135794   F_Current = 1.695987654321031\n",
            " ------------------------------------------------------------------------------------------------------------------------------------------------------------------------------------------ \n",
            "Demand Step_No:  4   is getting executed\n",
            "Current consumption for the step no  4   5.087962962962963\n",
            "the current cnsumption for step no i with   600   is   2.543981481481466\n",
            "Battery_SOC : 94.91203703703707\n",
            "Speed = 250   Torque = 7.0   Power = 183.16666666666666   Current_Battery_SOC = 94.91203703703707   F_Current = 2.543981481481466\n",
            " ------------------------------------------------------------------------------------------------------------------------------------------------------------------------------------------ \n",
            "Demand Step_No:  5   is getting executed\n",
            "Current consumption for the step no  5   6.105555555555556\n",
            "the current cnsumption for step no i with   300   is   3.052777777777698\n",
            "Battery_SOC : 93.8944444444446\n",
            "Speed = 300   Torque = 7.0   Power = 219.8   Current_Battery_SOC = 93.8944444444446   F_Current = 3.052777777777698\n",
            " ------------------------------------------------------------------------------------------------------------------------------------------------------------------------------------------ \n",
            "Demand Step_No:  6   is getting executed\n",
            "Current consumption for the step no  6   6.944444444162037\n",
            "the current cnsumption for step no i with   300   is   3.6314814814578815\n",
            "Battery_SOC : 92.73703703708424\n",
            "Speed = 350   Torque = 6.824385805   Power = 249.99999998983333   Current_Battery_SOC = 92.73703703708424   F_Current = 3.6314814814578815\n",
            " ------------------------------------------------------------------------------------------------------------------------------------------------------------------------------------------ \n",
            "Demand Step_No:  7   is getting executed\n",
            "Current consumption for the step no  7   6.944444444888889\n",
            "the current cnsumption for step no i with   300   is   4.210185185198635\n",
            "Battery_SOC : 91.57962962960274\n",
            "Speed = 400   Torque = 5.97133758   Power = 250.000000016   Current_Battery_SOC = 91.57962962960274   F_Current = 4.210185185198635\n",
            " ------------------------------------------------------------------------------------------------------------------------------------------------------------------------------------------ \n",
            "Demand Step_No:  8   is getting executed\n",
            "Current consumption for the step no  8   6.944444444016667\n",
            "the current cnsumption for step no i with   300   is   4.788888888866562\n",
            "Battery_SOC : 90.42222222226688\n",
            "Speed = 450   Torque = 5.307855626   Power = 249.9999999846   Current_Battery_SOC = 90.42222222226688   F_Current = 4.788888888866562\n",
            " ------------------------------------------------------------------------------------------------------------------------------------------------------------------------------------------ \n",
            "Demand Step_No:  9   is getting executed\n",
            "Current consumption for the step no  9   6.944444444888889\n",
            "the current cnsumption for step no i with   300   is   5.36759259260723\n",
            "Battery_SOC : 89.26481481478554\n",
            "Speed = 500   Torque = 4.777070064   Power = 250.000000016   Current_Battery_SOC = 89.26481481478554   F_Current = 5.36759259260723\n",
            " ------------------------------------------------------------------------------------------------------------------------------------------------------------------------------------------ \n",
            "Demand Step_No:  10   is getting executed\n",
            "Current consumption for the step no  10   6.944444444452778\n",
            "the current cnsumption for step no i with   300   is   5.946296296311661\n",
            "Battery_SOC : 88.10740740737668\n",
            "Speed = 550   Torque = 4.342790967   Power = 250.00000000030002   Current_Battery_SOC = 88.10740740737668   F_Current = 5.946296296311661\n",
            " ------------------------------------------------------------------------------------------------------------------------------------------------------------------------------------------ \n",
            "Demand Step_No:  11   is getting executed\n",
            "Current consumption for the step no  11   6.944444444888888\n",
            "the current cnsumption for step no i with   240   is   6.4092592593041955\n",
            "Battery_SOC : 87.18148148139161\n",
            "Speed = 600   Torque = 3.98089172   Power = 250.00000001599997   Current_Battery_SOC = 87.18148148139161   F_Current = 6.4092592593041955\n",
            " ------------------------------------------------------------------------------------------------------------------------------------------------------------------------------------------ \n"
          ]
        },
        {
          "output_type": "display_data",
          "data": {
            "text/plain": [
              "<Figure size 640x480 with 1 Axes>"
            ],
            "image/png": "[encoded data removed]"
          },
          "metadata": {}
        },
        {
          "output_type": "stream",
          "name": "stdout",
          "text": [
            "Do You wish to Continue\n"
          ]
        }
      ],
      "source": [
        "#Currnet calculation using Coulomb law\n",
        "def Current():\n",
        "  Steps = len(Speed)\n",
        "  F_Current =0                              # Initiating F_Current as zero, meaning the current consumption till now is zero\n",
        "  F_Cur = 0\n",
        "  Tim = 0                                   # Initiating Tim as zero, meaning the test cycle is starting at zero seconds\n",
        "  #------------------------------------------------------------------------------------------------------------------------------------------------\n",
        "  Time_Series = []                          # Initiating set of blank list for Time, Battery SOC and Current Consumption\n",
        "  Bt_SOC = []                               # for collecting those data at each step\n",
        "  F_Curr = []\n",
        "  #------------------------------------------------------------------------------------------------------------------------------------------------\n",
        "  print(\"What is the battery status\")\n",
        "  SOC_CURRENT = int(input())                # Getting an real time input related to the current soc of the battery\n",
        "  #-------------------------------------------------------------------------------------------------------------------------------------------------\n",
        "  SO = ((SOC_CURRENT/100) * Battery_Capacity)\n",
        "  for i in range(0,Steps):\n",
        "    print(\"Demand Step_No: \",i,\" \",\"is getting executed\")\n",
        "    # print(F_Cur, i)\n",
        "    F_Cur = 0\n",
        "    if(Motor_Temp <= Motor[\"Max_Temp\"] and SOC_CURRENT >= 20 and Battery_Temp <= Battery[\"Max_Temp\"]):\n",
        "      #----------------------------------------------------------------------------------------------------------------------------------------------\n",
        "      # Calculating Current from speed and torque\n",
        "      S = Speed[i]                      #Getting the step speed demand\n",
        "      T = Torque[i]                     #Getting the step torque demand\n",
        "      Ti = Time[i]                      #Getting the Time of the step\n",
        "      Power = (2*3.14*S*T)/60           #Calculating the power of the particular step \n",
        "      Current = Power/Motor_Voltage     #Calculating the current consumption of the particular step\n",
        "      print (\"Current consumption for the step no \",i,\" \",Current)\n",
        "      Ti_Sec = Ti*60                    #Converting time of the step from mins to secs\n",
        "      #----------------------------------------------------------------------------------------------------------------------------------------------\n",
        "      # COULOMB'S LAW : SOC Calculation\n",
        "      for i in range(0,int(Ti_Sec)):\n",
        "        F_Current = (Current/3600) + F_Current\n",
        "        F_Cur = (Current/3600) + F_Cur\n",
        "      print(\"the current cnsumption for step no i with\",\" \",Ti_Sec,\" \",\"is\",\" \",F_Current)\n",
        "      Battery_SOC = (((SO - ((F_Current)))/(Battery_Capacity)) * 100) #Calculating the current consumption for the each step in kW/s\n",
        "      print (\"Battery_SOC :\",Battery_SOC)\n",
        "      #---------------------------------------------------------------------------------------------------------------------------------------------\n",
        "      SOC_CURRENT = Battery_SOC\n",
        "      Tim = Tim +1\n",
        "      Time_Series.append(Tim)\n",
        "      Bt_SOC.append(Battery_SOC)\n",
        "      F_Curr.append(F_Current)\n",
        "      # Current_Step = (Current*Ti_Sec)/1000    \n",
        "      if(Battery_SOC < 20):\n",
        "        break\n",
        "      print(\"Speed =\",S,\" \",\"Torque =\",T,\" \",\"Power =\",Power,\" \",\"Current_Battery_SOC =\",Battery_SOC, \" \", \"F_Current =\", F_Current)\n",
        "      print(\" ------------------------------------------------------------------------------------------------------------------------------------------------------------------------------------------ \")\n",
        "    #------------------------------------------------------------------------------------------------------------------------------------------------\n",
        "    # Safety Alarms\n",
        "    else:\n",
        "      if(Motor_Temp > Motor[\"Max_Temp\"]):\n",
        "        print(\"Motor Temperature has crossed the safety limits\")\n",
        "      elif(SOC_CURRENT < Battery[\"Min_SOC\"]):\n",
        "        print(\"Battery has crossed the lower SOC safety limits\")\n",
        "      elif(Battery_Temp > Battery[\"Max_Temp\"]):\n",
        "        print(\"Battery Temperature has crossed the safety limits\")\n",
        "      else:\n",
        "        print(\"Something gone wrong. Check the sensor inputs\")\n",
        "\n",
        "  #--------------------------------------------------------------------------------------------------------------------------------------------------\n",
        "  # Plotting the results\n",
        "  Bt_SOC_DF = pd.DataFrame(Bt_SOC)\n",
        "  Time_Series_DF = pd.DataFrame(Time_Series)\n",
        "  F_Curr_DF = pd.DataFrame(F_Curr)\n",
        "  plt.plot(Time_Series_DF, Bt_SOC_DF, color='r', label='Bt_SOC_DF')\n",
        "  plt.plot(Time_Series_DF, F_Curr_DF, color='g', label='F_Curr_DF')\n",
        "  plt.xlabel(\"Time_Series_DF\")\n",
        "  plt.ylabel(\"SOC and Current\")\n",
        "  plt.legend()\n",
        "  plt.show()\n",
        "  #---------------------------------------------------------------------------------------------------------------------------------------------------\n",
        "  # Initiating model \n",
        "Key_Dema = 10                                                            # This initiation is to keep the model in repeating condition\n",
        "while Key_Dema == 10:\n",
        "  Key_Dem = int(input(print(\"Enter the Key Demand\")))                    # Getting the Ignition key condition to run the motor\n",
        "  if Key_Dem == 1:                                                       \n",
        "    if(Motor_Temp <= Motor[\"Max_Temp\"] and Battery_SOC >= Battery[\"Min_SOC\"] and Battery_Temp <= Battery[\"Max_Temp\"]):\n",
        "      Current()\n",
        "    #--------------------------------------------------------------------------------------------------------------------------------------------------\n",
        "    # Safety Alarms\n",
        "    else:\n",
        "      if(Motor_Temp > Motor[\"Max_Temp\"]):\n",
        "        print(\"Motor Temperature has crossed the safety limits\")\n",
        "      elif(Battery_SOC < Battery[\"Min_SOC\"]):\n",
        "        print(\"Battery has crossed the lower SOC safety limits\")\n",
        "      elif(Battery_Temp > Battery[\"Max_Temp\"]):\n",
        "        print(\"Battery Temperature has crossed the safety limits\")\n",
        "      else:\n",
        "        print(\"Something gone wrong. Check the sensor inputs\")\n",
        "  else:\n",
        "    print(\"Key is in Off Condition\")\n",
        "  print(\"Do You wish to Continue\")\n",
        "  Key_Dema = int(input())                                             # Used to repeat the model if operator gives 10 as an input\n",
        "  #------------------------------------------------------------------------------------------------------------------------------------------------------\n",
        "    \n",
        "\n",
        "\n",
        "  "
      ]
    }
  ],
  "metadata": {
    "colab": {
      "provenance": [],
      "authorship_tag": "ABX9TyNrnDvZCD4k1RVfUi3KyByh",
      "include_colab_link": true
    },
    "kernelspec": {
      "display_name": "Python 3",
      "name": "python3"
    },
    "language_info": {
      "name": "python"
    }
  },
  "nbformat": 4,
  "nbformat_minor": 0
}